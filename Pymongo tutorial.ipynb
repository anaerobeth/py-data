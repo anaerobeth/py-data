{
 "cells": [
  {
   "cell_type": "code",
   "execution_count": 1,
   "metadata": {
    "collapsed": true
   },
   "outputs": [],
   "source": [
    "# Notes from the Pymongo tutorial\n",
    "# http://api.mongodb.com/python/current/tutorial.html\n",
    "\n",
    "import pymongo\n",
    "\n",
    "from pymongo import MongoClient\n",
    "client = MongoClient('mongodb://localhost:27017/')\n",
    "\n",
    "# Get a database\n",
    "db = client.test_database"
   ]
  },
  {
   "cell_type": "code",
   "execution_count": 3,
   "metadata": {
    "collapsed": false
   },
   "outputs": [],
   "source": [
    "# Get a collection (group of docs, similar to sql table)\n",
    "collection = db.test_collection\n",
    "\n",
    "import datetime\n",
    "post = {\"author\": \"Mike\",\n",
    "        \"text\": \"My first blog post!\",\n",
    "        \"tags\": [\"mongodb\", \"python\", \"pymongo\"],\n",
    "        \"date\": datetime.datetime.utcnow()\n",
    "       }\n"
   ]
  },
  {
   "cell_type": "code",
   "execution_count": 5,
   "metadata": {
    "collapsed": false
   },
   "outputs": [
    {
     "data": {
      "text/plain": [
       "ObjectId('59ac8b7e19287780057a9384')"
      ]
     },
     "execution_count": 5,
     "metadata": {},
     "output_type": "execute_result"
    }
   ],
   "source": [
    "posts = db.posts\n",
    "post_id = posts.insert_one(post).inserted_id\n",
    "post_id"
   ]
  },
  {
   "cell_type": "code",
   "execution_count": 6,
   "metadata": {
    "collapsed": false
   },
   "outputs": [
    {
     "data": {
      "text/plain": [
       "['posts']"
      ]
     },
     "execution_count": 6,
     "metadata": {},
     "output_type": "execute_result"
    }
   ],
   "source": [
    "# List all collections in the database\n",
    "db.collection_names(include_system_collections=False)"
   ]
  },
  {
   "cell_type": "code",
   "execution_count": 10,
   "metadata": {
    "collapsed": false
   },
   "outputs": [
    {
     "data": {
      "text/plain": [
       "{'_id': ObjectId('59ac8b7e19287780057a9384'),\n",
       " 'author': 'Mike',\n",
       " 'date': datetime.datetime(2017, 9, 3, 23, 8, 4, 155000),\n",
       " 'tags': ['mongodb', 'python', 'pymongo'],\n",
       " 'text': 'My first blog post!'}"
      ]
     },
     "execution_count": 10,
     "metadata": {},
     "output_type": "execute_result"
    }
   ],
   "source": [
    "# Get a single document\n",
    "posts.find_one({\"author\": \"Mike\"})"
   ]
  },
  {
   "cell_type": "code",
   "execution_count": 11,
   "metadata": {
    "collapsed": true
   },
   "outputs": [],
   "source": [
    "# ObjectID from the url needs to be converted from string\n",
    "from bson.objectid import ObjectId\n",
    "def get(post_id):\n",
    "    document = client.db.collection.find_one({'_id': ObjectId(post_id)})"
   ]
  },
  {
   "cell_type": "code",
   "execution_count": 12,
   "metadata": {
    "collapsed": false
   },
   "outputs": [
    {
     "data": {
      "text/plain": [
       "[ObjectId('59ac8e0719287780057a9385'), ObjectId('59ac8e0719287780057a9386')]"
      ]
     },
     "execution_count": 12,
     "metadata": {},
     "output_type": "execute_result"
    }
   ],
   "source": [
    "# Bulk inserts\n",
    "# insert_many(array_of_posts) - schema-free changes allowed\n",
    "# returns an array \n",
    "new_posts = [{\"author\": \"Mike\",\n",
    "              \"text\": \"Another post!\",\n",
    "              \"tags\": [\"bulk\", \"insert\"],\n",
    "              \"date\": datetime.datetime(2009, 11, 12, 11, 14)},\n",
    "             {\"author\": \"Eliot\",\n",
    "              \"title\": \"MongoDB is fun\",\n",
    "              \"text\": \"and pretty easy too!\",\n",
    "              \"date\": datetime.datetime(2009, 11, 10, 10, 45)}]\n",
    "result = posts.insert_many(new_posts)\n",
    "result.inserted_ids\n"
   ]
  },
  {
   "cell_type": "code",
   "execution_count": 13,
   "metadata": {
    "collapsed": false
   },
   "outputs": [
    {
     "name": "stdout",
     "output_type": "stream",
     "text": [
      "{'_id': ObjectId('59ac8b7e19287780057a9384'), 'author': 'Mike', 'text': 'My first blog post!', 'date': datetime.datetime(2017, 9, 3, 23, 8, 4, 155000), 'tags': ['mongodb', 'python', 'pymongo']}\n",
      "{'_id': ObjectId('59ac8e0719287780057a9385'), 'author': 'Mike', 'text': 'Another post!', 'date': datetime.datetime(2009, 11, 12, 11, 14), 'tags': ['bulk', 'insert']}\n",
      "{'_id': ObjectId('59ac8e0719287780057a9386'), 'author': 'Eliot', 'date': datetime.datetime(2009, 11, 10, 10, 45), 'title': 'MongoDB is fun', 'text': 'and pretty easy too!'}\n"
     ]
    }
   ],
   "source": [
    "# Querying for more than one document\n",
    "# find returns a cursor instance \n",
    "for post in posts.find():\n",
    "    print(post)"
   ]
  },
  {
   "cell_type": "code",
   "execution_count": 15,
   "metadata": {
    "collapsed": false
   },
   "outputs": [
    {
     "name": "stdout",
     "output_type": "stream",
     "text": [
      "{'_id': ObjectId('59ac8e0719287780057a9386'), 'author': 'Eliot', 'date': datetime.datetime(2009, 11, 10, 10, 45), 'title': 'MongoDB is fun', 'text': 'and pretty easy too!'}\n",
      "{'_id': ObjectId('59ac8e0719287780057a9385'), 'author': 'Mike', 'text': 'Another post!', 'date': datetime.datetime(2009, 11, 12, 11, 14), 'tags': ['bulk', 'insert']}\n"
     ]
    }
   ],
   "source": [
    "# Range queries\n",
    "d = datetime.datetime(2009, 11, 12, 12)\n",
    "for post in posts.find({\"date\": {\"$lt\": d}}).sort(\"author\"):\n",
    "    print(post)"
   ]
  }
 ],
 "metadata": {
  "anaconda-cloud": {},
  "kernelspec": {
   "display_name": "Python [default]",
   "language": "python",
   "name": "python3"
  },
  "language_info": {
   "codemirror_mode": {
    "name": "ipython",
    "version": 3
   },
   "file_extension": ".py",
   "mimetype": "text/x-python",
   "name": "python",
   "nbconvert_exporter": "python",
   "pygments_lexer": "ipython3",
   "version": "3.5.2"
  }
 },
 "nbformat": 4,
 "nbformat_minor": 1
}
